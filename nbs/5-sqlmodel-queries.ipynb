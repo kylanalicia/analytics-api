{
 "cells": [
  {
   "cell_type": "code",
   "execution_count": 7,
   "metadata": {},
   "outputs": [],
   "source": [
    "import sys\n",
    "from pathlib import Path"
   ]
  },
  {
   "cell_type": "code",
   "execution_count": 8,
   "metadata": {},
   "outputs": [],
   "source": [
    "src_path = Path(\"../src\").resolve()\n",
    "sys.path.append(str(src_path))"
   ]
  },
  {
   "cell_type": "code",
   "execution_count": 9,
   "metadata": {},
   "outputs": [],
   "source": [
    "from sqlmodel import Session, select\n",
    "from api.db.session import engine\n",
    "from api.events.models import EventModel\n",
    "from timescaledb.hyperfunctions import time_bucket\n",
    "from pprint import pprint"
   ]
  },
  {
   "cell_type": "code",
   "execution_count": 10,
   "metadata": {},
   "outputs": [
    {
     "name": "stdout",
     "output_type": "stream",
     "text": [
      "SELECT eventmodel.id, eventmodel.time, eventmodel.page, eventmodel.description, eventmodel.updated_at \n",
      "FROM eventmodel ORDER BY eventmodel.updated_at ASC\n",
      " LIMIT 10\n",
      "\n",
      "SELECT eventmodel.id, eventmodel.time, eventmodel.page, eventmodel.description, eventmodel.updated_at \n",
      "FROM eventmodel ORDER BY eventmodel.updated_at ASC\n",
      " LIMIT :param_1\n",
      "[EventModel(page='/test+', updated_at=datetime.datetime(2025, 4, 1, 4, 51, 53, 335165, tzinfo=datetime.timezone.utc), id=1, time=datetime.datetime(2025, 4, 1, 4, 51, 47, 609054, tzinfo=datetime.timezone.utc), description='inline test'),\n",
      " EventModel(page='/contact', updated_at=datetime.datetime(2025, 4, 1, 4, 54, 21, 558441, tzinfo=datetime.timezone.utc), id=2, time=datetime.datetime(2025, 4, 1, 4, 54, 21, 558420, tzinfo=datetime.timezone.utc), description=''),\n",
      " EventModel(page='/about', updated_at=datetime.datetime(2025, 4, 1, 4, 54, 21, 598212, tzinfo=datetime.timezone.utc), id=3, time=datetime.datetime(2025, 4, 1, 4, 54, 21, 598191, tzinfo=datetime.timezone.utc), description=''),\n",
      " EventModel(page='/contact', updated_at=datetime.datetime(2025, 4, 1, 4, 54, 21, 635055, tzinfo=datetime.timezone.utc), id=4, time=datetime.datetime(2025, 4, 1, 4, 54, 21, 635029, tzinfo=datetime.timezone.utc), description=''),\n",
      " EventModel(page='/about', updated_at=datetime.datetime(2025, 4, 1, 4, 54, 21, 674483, tzinfo=datetime.timezone.utc), id=5, time=datetime.datetime(2025, 4, 1, 4, 54, 21, 674461, tzinfo=datetime.timezone.utc), description=''),\n",
      " EventModel(page='pricing', updated_at=datetime.datetime(2025, 4, 1, 4, 54, 21, 710022, tzinfo=datetime.timezone.utc), id=6, time=datetime.datetime(2025, 4, 1, 4, 54, 21, 709991, tzinfo=datetime.timezone.utc), description=''),\n",
      " EventModel(page='/pages', updated_at=datetime.datetime(2025, 4, 1, 4, 54, 21, 745061, tzinfo=datetime.timezone.utc), id=7, time=datetime.datetime(2025, 4, 1, 4, 54, 21, 745039, tzinfo=datetime.timezone.utc), description=''),\n",
      " EventModel(page='pricing', updated_at=datetime.datetime(2025, 4, 1, 4, 54, 21, 790332, tzinfo=datetime.timezone.utc), id=8, time=datetime.datetime(2025, 4, 1, 4, 54, 21, 790306, tzinfo=datetime.timezone.utc), description=''),\n",
      " EventModel(page='/about', updated_at=datetime.datetime(2025, 4, 1, 4, 54, 21, 906619, tzinfo=datetime.timezone.utc), id=9, time=datetime.datetime(2025, 4, 1, 4, 54, 21, 906590, tzinfo=datetime.timezone.utc), description=''),\n",
      " EventModel(page='/pages', updated_at=datetime.datetime(2025, 4, 1, 4, 54, 21, 976495, tzinfo=datetime.timezone.utc), id=10, time=datetime.datetime(2025, 4, 1, 4, 54, 21, 976474, tzinfo=datetime.timezone.utc), description='')]\n"
     ]
    }
   ],
   "source": [
    "with Session(engine) as session:\n",
    "    query = select(EventModel).order_by(EventModel.updated_at.asc()).limit(10)\n",
    "    compiled_query = query.compile(compile_kwargs={\"literal_binds\": True})\n",
    "    print(compiled_query)\n",
    "    print(\"\")\n",
    "    print(str(query))\n",
    "    results = session.exec(query).fetchall()\n",
    "    pprint(results)"
   ]
  },
  {
   "cell_type": "code",
   "execution_count": 6,
   "metadata": {},
   "outputs": [
    {
     "name": "stdout",
     "output_type": "stream",
     "text": [
      "[]\n"
     ]
    }
   ],
   "source": [
    "from sqlalchemy import func\n",
    "from datetime import datetime, timedelta, timezone\n",
    "\n",
    "with Session(engine) as session:\n",
    "    bucket = time_bucket(\"1 day\", EventModel.time)\n",
    "    pages = ['/about', '/contact', '/pages', '/pricing']\n",
    "    start = datetime.now(timezone.utc) - timedelta(hours=1)\n",
    "    finish = datetime.now(timezone.utc) + timedelta(hours=1)\n",
    "    query = (\n",
    "        select(\n",
    "            bucket,\n",
    "            EventModel.page,\n",
    "            func.count()\n",
    "        )\n",
    "        .where(\n",
    "            EventModel.time > start,\n",
    "            EventModel.time <= finish,\n",
    "            EventModel.page.in_(pages)\n",
    "        )\n",
    "        .group_by(\n",
    "            bucket,\n",
    "            EventModel.page,\n",
    "        )\n",
    "        .order_by(\n",
    "            bucket,\n",
    "            EventModel.page,\n",
    "        )\n",
    "    )\n",
    "    compiled_query = query.compile(compile_kwargs={\"literal_binds\": True})\n",
    "    # print(compiled_query)\n",
    "    results = session.exec(query).fetchall()\n",
    "    pprint(results)\n",
    "\n",
    "    "
   ]
  }
 ],
 "metadata": {
  "kernelspec": {
   "display_name": "venv",
   "language": "python",
   "name": "python3"
  },
  "language_info": {
   "codemirror_mode": {
    "name": "ipython",
    "version": 3
   },
   "file_extension": ".py",
   "mimetype": "text/x-python",
   "name": "python",
   "nbconvert_exporter": "python",
   "pygments_lexer": "ipython3",
   "version": "3.12.9"
  }
 },
 "nbformat": 4,
 "nbformat_minor": 2
}
