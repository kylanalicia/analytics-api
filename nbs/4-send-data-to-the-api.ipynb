{
 "cells": [
  {
   "cell_type": "code",
   "execution_count": 4,
   "metadata": {},
   "outputs": [],
   "source": [
    "import requests"
   ]
  },
  {
   "cell_type": "code",
   "execution_count": 12,
   "metadata": {},
   "outputs": [
    {
     "name": "stdout",
     "output_type": "stream",
     "text": [
      "{'date': 'Mon, 31 Mar 2025 08:27:32 GMT', 'server': 'uvicorn', 'content-length': '46', 'content-type': 'application/json'}\n",
      "ok True\n",
      "{'id': 123, 'page': '/test+', 'description': '123'} <class 'dict'> None\n"
     ]
    }
   ],
   "source": [
    "path = \"/api/events/\"\n",
    "base_url = \"http://localhost:8002\" # 127.0.0.1\n",
    "create_endpoint = f\"{base_url}{path}\"\n",
    "\n",
    "headers = {\n",
    "    \"Content-Type\": \"application/json\"\n",
    "}\n",
    "\n",
    "response = requests.post(create_endpoint , json={\"page\": \"/test+\", \"description\": \"123\"}) #HTTP POST\n",
    "print(response.headers)\n",
    "print('ok', response.ok)\n",
    "if response.ok:\n",
    "    data = response.json()\n",
    "    print(data, type(data), data.get('items'))\n",
    "else:\n",
    "    print(response.text)"
   ]
  },
  {
   "cell_type": "code",
   "execution_count": 10,
   "metadata": {},
   "outputs": [
    {
     "name": "stdout",
     "output_type": "stream",
     "text": [
      "{'date': 'Mon, 31 Mar 2025 08:26:49 GMT', 'server': 'uvicorn', 'content-length': '47', 'content-type': 'application/json'}\n",
      "ok True\n",
      "{'id': 12, 'description': 'hello world', 'page': ''} <class 'dict'> None\n"
     ]
    }
   ],
   "source": [
    "detail_path = \"/api/events/12\"\n",
    "detail_endpoint = f\"{base_url}{detail_path}\"\n",
    "\n",
    "response = requests.put(detail_endpoint, json={\"description\": \"hello world\"}) #HTTP PUT\n",
    "print(response.headers)\n",
    "print('ok', response.ok)\n",
    "if response.ok:\n",
    "    data = response.json()\n",
    "    print(data, type(data), data.get('items'))\n",
    "else:\n",
    "    print(response.text)"
   ]
  }
 ],
 "metadata": {
  "kernelspec": {
   "display_name": "venv",
   "language": "python",
   "name": "python3"
  },
  "language_info": {
   "codemirror_mode": {
    "name": "ipython",
    "version": 3
   },
   "file_extension": ".py",
   "mimetype": "text/x-python",
   "name": "python",
   "nbconvert_exporter": "python",
   "pygments_lexer": "ipython3",
   "version": "3.12.9"
  }
 },
 "nbformat": 4,
 "nbformat_minor": 2
}
