{
 "cells": [
  {
   "cell_type": "code",
   "execution_count": 16,
   "metadata": {},
   "outputs": [
    {
     "data": {
      "text/plain": [
       "'http://localhost:8002/api/events'"
      ]
     },
     "execution_count": 16,
     "metadata": {},
     "output_type": "execute_result"
    }
   ],
   "source": [
    "import requests\n",
    "from pprint import pprint\n",
    "path = \"/api/events\"\n",
    "base_url = \"http://localhost:8002\" # 127.0.0.1\n",
    "endpoint = f\"{base_url}{path}\"\n",
    "endpoint"
   ]
  },
  {
   "cell_type": "code",
   "execution_count": 17,
   "metadata": {},
   "outputs": [
    {
     "name": "stdout",
     "output_type": "stream",
     "text": [
      "ok True\n",
      "{'count': 9,\n",
      " 'results': [{'description': '123', 'id': 9, 'page': '/test+'},\n",
      "             {'description': '123', 'id': 8, 'page': '/test+'},\n",
      "             {'description': '123', 'id': 7, 'page': '/test+'},\n",
      "             {'description': '123', 'id': 6, 'page': '/test+'},\n",
      "             {'description': '123', 'id': 5, 'page': '/test+'},\n",
      "             {'description': '123', 'id': 4, 'page': '/test+'},\n",
      "             {'description': '123', 'id': 3, 'page': '/test+'},\n",
      "             {'description': '123', 'id': 2, 'page': '/test+'},\n",
      "             {'description': '123', 'id': 1, 'page': '/test+'}]}\n"
     ]
    }
   ],
   "source": [
    "response = requests.get(endpoint)\n",
    "print('ok', response.ok)\n",
    "if response.ok:\n",
    "    data = response.json()\n",
    "    pprint(data)"
   ]
  },
  {
   "cell_type": "code",
   "execution_count": 22,
   "metadata": {},
   "outputs": [
    {
     "name": "stdout",
     "output_type": "stream",
     "text": [
      "ok 404\n"
     ]
    }
   ],
   "source": [
    "detail_path = \"/api/events/13\"\n",
    "detail_endpoint = f\"{base_url}{detail_path}\"\n",
    "r = requests.get(detail_endpoint)\n",
    "print('ok', r.status_code)\n",
    "if r.ok:\n",
    "    data = r.json()\n",
    "    pprint(data)"
   ]
  },
  {
   "cell_type": "code",
   "execution_count": null,
   "metadata": {},
   "outputs": [],
   "source": []
  }
 ],
 "metadata": {
  "kernelspec": {
   "display_name": "venv",
   "language": "python",
   "name": "python3"
  },
  "language_info": {
   "codemirror_mode": {
    "name": "ipython",
    "version": 3
   },
   "file_extension": ".py",
   "mimetype": "text/x-python",
   "name": "python",
   "nbconvert_exporter": "python",
   "pygments_lexer": "ipython3",
   "version": "3.12.9"
  }
 },
 "nbformat": 4,
 "nbformat_minor": 2
}
